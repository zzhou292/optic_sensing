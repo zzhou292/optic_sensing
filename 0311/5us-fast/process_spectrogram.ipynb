{
  "cells": [
    {
      "cell_type": "markdown",
      "metadata": {
        "id": "view-in-github",
        "colab_type": "text"
      },
      "source": [
        "<a href=\"https://colab.research.google.com/github/zzhou292/optic_sensing/blob/main/0311/5us-fast/process_spectrogram.ipynb\" target=\"_parent\"><img src=\"https://colab.research.google.com/assets/colab-badge.svg\" alt=\"Open In Colab\"/></a>"
      ]
    },
    {
      "cell_type": "code",
      "execution_count": 1,
      "metadata": {
        "id": "vD1OEYwOWQtR"
      },
      "outputs": [],
      "source": [
        "# import dependencies\n",
        "import sys\n",
        "import os\n",
        "import pandas as pd\n",
        "import math\n",
        "#from statsmodels.tsa.api import ExponentialSmoothing, SimpleExpSmoothing, Holt\n",
        "import numpy as np\n",
        "from numpy import nan as Nan\n",
        "import matplotlib.pyplot as plt\n",
        "import matplotlib.dates as mdates\n",
        "\n",
        "\n",
        "from datetime import datetime, timedelta\n",
        "#import time as t \n",
        "from scipy.fftpack import fft, ifft\n",
        "\n",
        "from scipy import signal\n",
        "\n",
        "plt.rcParams['figure.figsize'] = [12, 6]\n",
        "\n",
        "#Value Arrays\n",
        "time_data = []\n",
        "V1_data = []\n",
        "V2_data = []\n",
        "V3_data = []"
      ]
    },
    {
      "cell_type": "code",
      "source": [
        "!git clone https://github.com/zzhou292/optic_sensing.git"
      ],
      "metadata": {
        "id": "NIlu5jV6Wk79",
        "outputId": "9d0789ec-b94b-4e0e-fa9c-c1d0e0173ed9",
        "colab": {
          "base_uri": "https://localhost:8080/"
        }
      },
      "execution_count": 2,
      "outputs": [
        {
          "output_type": "stream",
          "name": "stdout",
          "text": [
            "Cloning into 'optic_sensing'...\n",
            "remote: Enumerating objects: 1895, done.\u001b[K\n",
            "remote: Counting objects: 100% (372/372), done.\u001b[K\n",
            "remote: Compressing objects: 100% (174/174), done.\u001b[K\n",
            "remote: Total 1895 (delta 199), reused 361 (delta 194), pack-reused 1523\u001b[K\n",
            "Receiving objects: 100% (1895/1895), 511.18 MiB | 14.00 MiB/s, done.\n",
            "Resolving deltas: 100% (1375/1375), done.\n",
            "Updating files: 100% (1573/1573), done.\n"
          ]
        }
      ]
    },
    {
      "cell_type": "code",
      "source": [
        "#check format\n",
        "#filename = 'optic_sensing/0311/5us-fast/20230311-0003_01.csv'\n",
        "#test_df = pd.read_csv(filename)\n",
        "#test_df"
      ],
      "metadata": {
        "id": "EOMIwBaOYSmX"
      },
      "execution_count": 85,
      "outputs": []
    },
    {
      "cell_type": "code",
      "source": [
        "def list_full_paths(directory):\n",
        "    return [os.path.join(directory, file) for file in os.listdir(directory) if file.endswith('.csv')]\n",
        "\n",
        "fileset = list_full_paths('optic_sensing/0311/5us-fast')\n",
        "fileset.sort()\n",
        "#fileset #check input"
      ],
      "metadata": {
        "id": "cX9W6JdHehyy"
      },
      "execution_count": 86,
      "outputs": []
    },
    {
      "cell_type": "code",
      "source": [
        "df_list = []\n",
        "elapsed_time = 0.0\n",
        "time_inc_per_file = 0.015\n",
        "\n",
        "def DFLoader(i):\n",
        "    global elapsed_time\n",
        "    new_df = pd.read_csv(i, skiprows = [1])\n",
        "    new_df = new_df.round({'Time':3})\n",
        "    new_df['Time'] = new_df['Time'] + elapsed_time\n",
        "    elapsed_time = new_df['Time'].iloc[-1] + time_inc_per_file\n",
        "    return new_df\n",
        "\n",
        "df = pd.concat(map(DFLoader, fileset))\n",
        "\n",
        "df['Channel B'] = df['Channel B'] * 1000 #convert V output to mV output\n",
        "df['Time'] = df['Time'] / 1000"
      ],
      "metadata": {
        "id": "7Hr4at9-dptQ"
      },
      "execution_count": 87,
      "outputs": []
    },
    {
      "cell_type": "code",
      "source": [
        "df"
      ],
      "metadata": {
        "id": "U41GQWuFqc94",
        "outputId": "f4976746-4773-44ae-cb58-ac97dc6b0e05",
        "colab": {
          "base_uri": "https://localhost:8080/",
          "height": 419
        }
      },
      "execution_count": 89,
      "outputs": [
        {
          "output_type": "execute_result",
          "data": {
            "text/plain": [
              "             Time  Channel A  Channel B  Channel C\n",
              "0        0.000000   407.5572   444.7281  -4.738250\n",
              "1        0.000005   411.5096   444.7281  -4.738250\n",
              "2        0.000010   407.5572   444.7281  -3.949311\n",
              "3        0.000015   411.5096   444.7281  -4.344549\n",
              "4        0.000020   407.5572   444.7281  -4.344549\n",
              "...           ...        ...        ...        ...\n",
              "99999   49.502935   399.6370   468.5347  -8.293860\n",
              "100000  49.502940   395.6846   468.5347  -7.898622\n",
              "100001  49.502945   399.6370   468.5347  -7.108144\n",
              "100002  49.502950   399.6370   468.5347  -5.923966\n",
              "100003  49.502955   403.6048   468.5347  -7.898622\n",
              "\n",
              "[9900396 rows x 4 columns]"
            ],
            "text/html": [
              "\n",
              "  <div id=\"df-b5db9450-7ccd-4189-80f1-76f0433c6fb9\">\n",
              "    <div class=\"colab-df-container\">\n",
              "      <div>\n",
              "<style scoped>\n",
              "    .dataframe tbody tr th:only-of-type {\n",
              "        vertical-align: middle;\n",
              "    }\n",
              "\n",
              "    .dataframe tbody tr th {\n",
              "        vertical-align: top;\n",
              "    }\n",
              "\n",
              "    .dataframe thead th {\n",
              "        text-align: right;\n",
              "    }\n",
              "</style>\n",
              "<table border=\"1\" class=\"dataframe\">\n",
              "  <thead>\n",
              "    <tr style=\"text-align: right;\">\n",
              "      <th></th>\n",
              "      <th>Time</th>\n",
              "      <th>Channel A</th>\n",
              "      <th>Channel B</th>\n",
              "      <th>Channel C</th>\n",
              "    </tr>\n",
              "  </thead>\n",
              "  <tbody>\n",
              "    <tr>\n",
              "      <th>0</th>\n",
              "      <td>0.000000</td>\n",
              "      <td>407.5572</td>\n",
              "      <td>444.7281</td>\n",
              "      <td>-4.738250</td>\n",
              "    </tr>\n",
              "    <tr>\n",
              "      <th>1</th>\n",
              "      <td>0.000005</td>\n",
              "      <td>411.5096</td>\n",
              "      <td>444.7281</td>\n",
              "      <td>-4.738250</td>\n",
              "    </tr>\n",
              "    <tr>\n",
              "      <th>2</th>\n",
              "      <td>0.000010</td>\n",
              "      <td>407.5572</td>\n",
              "      <td>444.7281</td>\n",
              "      <td>-3.949311</td>\n",
              "    </tr>\n",
              "    <tr>\n",
              "      <th>3</th>\n",
              "      <td>0.000015</td>\n",
              "      <td>411.5096</td>\n",
              "      <td>444.7281</td>\n",
              "      <td>-4.344549</td>\n",
              "    </tr>\n",
              "    <tr>\n",
              "      <th>4</th>\n",
              "      <td>0.000020</td>\n",
              "      <td>407.5572</td>\n",
              "      <td>444.7281</td>\n",
              "      <td>-4.344549</td>\n",
              "    </tr>\n",
              "    <tr>\n",
              "      <th>...</th>\n",
              "      <td>...</td>\n",
              "      <td>...</td>\n",
              "      <td>...</td>\n",
              "      <td>...</td>\n",
              "    </tr>\n",
              "    <tr>\n",
              "      <th>99999</th>\n",
              "      <td>49.502935</td>\n",
              "      <td>399.6370</td>\n",
              "      <td>468.5347</td>\n",
              "      <td>-8.293860</td>\n",
              "    </tr>\n",
              "    <tr>\n",
              "      <th>100000</th>\n",
              "      <td>49.502940</td>\n",
              "      <td>395.6846</td>\n",
              "      <td>468.5347</td>\n",
              "      <td>-7.898622</td>\n",
              "    </tr>\n",
              "    <tr>\n",
              "      <th>100001</th>\n",
              "      <td>49.502945</td>\n",
              "      <td>399.6370</td>\n",
              "      <td>468.5347</td>\n",
              "      <td>-7.108144</td>\n",
              "    </tr>\n",
              "    <tr>\n",
              "      <th>100002</th>\n",
              "      <td>49.502950</td>\n",
              "      <td>399.6370</td>\n",
              "      <td>468.5347</td>\n",
              "      <td>-5.923966</td>\n",
              "    </tr>\n",
              "    <tr>\n",
              "      <th>100003</th>\n",
              "      <td>49.502955</td>\n",
              "      <td>403.6048</td>\n",
              "      <td>468.5347</td>\n",
              "      <td>-7.898622</td>\n",
              "    </tr>\n",
              "  </tbody>\n",
              "</table>\n",
              "<p>9900396 rows × 4 columns</p>\n",
              "</div>\n",
              "      <button class=\"colab-df-convert\" onclick=\"convertToInteractive('df-b5db9450-7ccd-4189-80f1-76f0433c6fb9')\"\n",
              "              title=\"Convert this dataframe to an interactive table.\"\n",
              "              style=\"display:none;\">\n",
              "        \n",
              "  <svg xmlns=\"http://www.w3.org/2000/svg\" height=\"24px\"viewBox=\"0 0 24 24\"\n",
              "       width=\"24px\">\n",
              "    <path d=\"M0 0h24v24H0V0z\" fill=\"none\"/>\n",
              "    <path d=\"M18.56 5.44l.94 2.06.94-2.06 2.06-.94-2.06-.94-.94-2.06-.94 2.06-2.06.94zm-11 1L8.5 8.5l.94-2.06 2.06-.94-2.06-.94L8.5 2.5l-.94 2.06-2.06.94zm10 10l.94 2.06.94-2.06 2.06-.94-2.06-.94-.94-2.06-.94 2.06-2.06.94z\"/><path d=\"M17.41 7.96l-1.37-1.37c-.4-.4-.92-.59-1.43-.59-.52 0-1.04.2-1.43.59L10.3 9.45l-7.72 7.72c-.78.78-.78 2.05 0 2.83L4 21.41c.39.39.9.59 1.41.59.51 0 1.02-.2 1.41-.59l7.78-7.78 2.81-2.81c.8-.78.8-2.07 0-2.86zM5.41 20L4 18.59l7.72-7.72 1.47 1.35L5.41 20z\"/>\n",
              "  </svg>\n",
              "      </button>\n",
              "      \n",
              "  <style>\n",
              "    .colab-df-container {\n",
              "      display:flex;\n",
              "      flex-wrap:wrap;\n",
              "      gap: 12px;\n",
              "    }\n",
              "\n",
              "    .colab-df-convert {\n",
              "      background-color: #E8F0FE;\n",
              "      border: none;\n",
              "      border-radius: 50%;\n",
              "      cursor: pointer;\n",
              "      display: none;\n",
              "      fill: #1967D2;\n",
              "      height: 32px;\n",
              "      padding: 0 0 0 0;\n",
              "      width: 32px;\n",
              "    }\n",
              "\n",
              "    .colab-df-convert:hover {\n",
              "      background-color: #E2EBFA;\n",
              "      box-shadow: 0px 1px 2px rgba(60, 64, 67, 0.3), 0px 1px 3px 1px rgba(60, 64, 67, 0.15);\n",
              "      fill: #174EA6;\n",
              "    }\n",
              "\n",
              "    [theme=dark] .colab-df-convert {\n",
              "      background-color: #3B4455;\n",
              "      fill: #D2E3FC;\n",
              "    }\n",
              "\n",
              "    [theme=dark] .colab-df-convert:hover {\n",
              "      background-color: #434B5C;\n",
              "      box-shadow: 0px 1px 3px 1px rgba(0, 0, 0, 0.15);\n",
              "      filter: drop-shadow(0px 1px 2px rgba(0, 0, 0, 0.3));\n",
              "      fill: #FFFFFF;\n",
              "    }\n",
              "  </style>\n",
              "\n",
              "      <script>\n",
              "        const buttonEl =\n",
              "          document.querySelector('#df-b5db9450-7ccd-4189-80f1-76f0433c6fb9 button.colab-df-convert');\n",
              "        buttonEl.style.display =\n",
              "          google.colab.kernel.accessAllowed ? 'block' : 'none';\n",
              "\n",
              "        async function convertToInteractive(key) {\n",
              "          const element = document.querySelector('#df-b5db9450-7ccd-4189-80f1-76f0433c6fb9');\n",
              "          const dataTable =\n",
              "            await google.colab.kernel.invokeFunction('convertToInteractive',\n",
              "                                                     [key], {});\n",
              "          if (!dataTable) return;\n",
              "\n",
              "          const docLinkHtml = 'Like what you see? Visit the ' +\n",
              "            '<a target=\"_blank\" href=https://colab.research.google.com/notebooks/data_table.ipynb>data table notebook</a>'\n",
              "            + ' to learn more about interactive tables.';\n",
              "          element.innerHTML = '';\n",
              "          dataTable['output_type'] = 'display_data';\n",
              "          await google.colab.output.renderOutput(dataTable, element);\n",
              "          const docLink = document.createElement('div');\n",
              "          docLink.innerHTML = docLinkHtml;\n",
              "          element.appendChild(docLink);\n",
              "        }\n",
              "      </script>\n",
              "    </div>\n",
              "  </div>\n",
              "  "
            ]
          },
          "metadata": {},
          "execution_count": 89
        }
      ]
    },
    {
      "cell_type": "code",
      "source": [
        "df = df.iloc[::200, :] #downsampled data, every 200 samples (so 1KHz)"
      ],
      "metadata": {
        "id": "bfnCv1Intg1M"
      },
      "execution_count": 100,
      "outputs": []
    },
    {
      "cell_type": "code",
      "source": [
        "#Full timeline BPF Coefficient Plot\n",
        "\n",
        "fig, ax = plt.subplots(2)\n",
        "ax[0].set_title(\"Photodetector Outputs\")\n",
        "ax[0].plot(df[['Time']], df[['Channel A']].to_numpy(), label='Ch. A')\n",
        "ax[0].legend(loc='upper left')\n",
        "ax[1].plot(df[['Time']], df[['Channel B']].to_numpy(), label='Ch. B', color=\"orange\")\n",
        "ax[1].legend(loc='upper left')"
      ],
      "metadata": {
        "id": "kQGMEds2iQZe",
        "outputId": "cd6ed790-d1e5-4279-ffbc-8ea9adcc572b",
        "colab": {
          "base_uri": "https://localhost:8080/",
          "height": 552
        }
      },
      "execution_count": 101,
      "outputs": [
        {
          "output_type": "execute_result",
          "data": {
            "text/plain": [
              "<matplotlib.legend.Legend at 0x7f9c9d1219d0>"
            ]
          },
          "metadata": {},
          "execution_count": 101
        },
        {
          "output_type": "display_data",
          "data": {
            "text/plain": [
              "<Figure size 1200x600 with 2 Axes>"
            ],
            "image/png": "[encoded data removed]"
          },
          "metadata": {}
        }
      ]
    },
    {
      "cell_type": "code",
      "source": [
        "eval_data = df[['Channel B']].values.flatten() #Choose which channel to monitor"
      ],
      "metadata": {
        "id": "x2LpUfsGrUH4"
      },
      "execution_count": 102,
      "outputs": []
    },
    {
      "cell_type": "code",
      "source": [
        "f, t, Sxx = signal.spectrogram(eval_data, fs=1000, nperseg=1000)\n",
        "#f, t, Zxx = signal.stft(eval_data, fs, nperseg=100)\n",
        "#plt.pcolormesh(t, f, np.abs(Zxx))\n",
        "plt.pcolormesh(t, f, Sxx)\n",
        "#plt.title('Vibration Test on 17K fiber run')\n",
        "plt.ylabel('Frequency (Hz)')\n",
        "plt.xlabel('Time (seconds)')\n",
        "ax = plt.gca()\n",
        "ax.set_ylim((.5, 20))\n",
        "#ax.set_yscale('log')"
      ],
      "metadata": {
        "id": "H8_cN4GzrTTS",
        "outputId": "3a5f55cf-9787-42ef-c167-5282bd851da8",
        "colab": {
          "base_uri": "https://localhost:8080/",
          "height": 541
        }
      },
      "execution_count": 108,
      "outputs": [
        {
          "output_type": "execute_result",
          "data": {
            "text/plain": [
              "(0.5, 20.0)"
            ]
          },
          "metadata": {},
          "execution_count": 108
        },
        {
          "output_type": "display_data",
          "data": {
            "text/plain": [
              "<Figure size 1200x600 with 1 Axes>"
            ],
            "image/png": "[encoded data removed]"
          },
          "metadata": {}
        }
      ]
    }
  ],
  "metadata": {
    "kernelspec": {
      "display_name": "base",
      "language": "python",
      "name": "python3"
    },
    "language_info": {
      "codemirror_mode": {
        "name": "ipython",
        "version": 3
      },
      "file_extension": ".py",
      "mimetype": "text/x-python",
      "name": "python",
      "nbconvert_exporter": "python",
      "pygments_lexer": "ipython3",
      "version": "3.9.13"
    },
    "orig_nbformat": 4,
    "vscode": {
      "interpreter": {
        "hash": "5f03900293d012f0336d06ab5aa43acee5c09d138bc557e3e75a650d265fb943"
      }
    },
    "colab": {
      "provenance": [],
      "include_colab_link": true
    }
  },
  "nbformat": 4,
  "nbformat_minor": 0
}