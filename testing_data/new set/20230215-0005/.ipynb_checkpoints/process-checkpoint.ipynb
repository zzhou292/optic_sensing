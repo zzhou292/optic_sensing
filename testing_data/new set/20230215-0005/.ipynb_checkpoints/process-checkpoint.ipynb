{
 "cells": [
  {
   "cell_type": "code",
   "execution_count": 21,
   "metadata": {},
   "outputs": [],
   "source": [
    "# import dependencies\n",
    "import numpy as np\n",
    "import csv\n",
    "import matplotlib.pyplot as plt"
   ]
  },
  {
   "cell_type": "code",
   "execution_count": 22,
   "metadata": {},
   "outputs": [],
   "source": [
    "# input parameters, change this section only\n",
    "file_prefix=\"20230215-0005_\"\n",
    "file_num = 51\n",
    "file_suffix = \".csv\"\n",
    "time_res = 5 * 1e-6\n",
    "\n",
    "# average n parameter // we need to ensure total raw data points is the multiple of n\n",
    "n = 5000"
   ]
  },
  {
   "cell_type": "code",
   "execution_count": 23,
   "metadata": {},
   "outputs": [],
   "source": [
    "# polarization rotation speed change helper, do not change\n",
    "def helper_calc(diff, delta, prev):\n",
    "    return 2 * np.arcsin((1/2)*np.abs(diff - prev) ) * (1 / delta)"
   ]
  },
  {
   "cell_type": "code",
   "execution_count": 24,
   "metadata": {},
   "outputs": [
    {
     "name": "stdout",
     "output_type": "stream",
     "text": [
      "total number of raw data points:10000100\n"
     ]
    }
   ],
   "source": [
    "# data processing\n",
    "global_diff = []\n",
    "global_rot_speed = []\n",
    "global_time = []\n",
    "global_balance = []\n",
    "global_V1 = []\n",
    "global_V2 = []\n",
    "\n",
    "\n",
    "for i in range(1,file_num,1):\n",
    "    filename = \"\"\n",
    "    if i < 10:\n",
    "        filename = file_prefix + \"0\" + str(i) + file_suffix\n",
    "    else:\n",
    "        filename = file_prefix + str(i) + file_suffix\n",
    "\n",
    "\n",
    "    with open(filename, newline='') as csvfile:\n",
    "        reader = csv.DictReader(csvfile)\n",
    "        count = 0\n",
    "        for row in reader:\n",
    "            if count >= 1:\n",
    "                global_diff.append(float(row[\"abs((A-B)/(A+B))\"]))\n",
    "                global_balance.append(float(row[\"Channel C\"]))\n",
    "                global_V1.append(float(row[\"Channel A\"]))\n",
    "                global_V2.append(float(row[\"Channel B\"]))\n",
    "            count = count + 1\n",
    "\n",
    "print(\"total number of raw data points:\"+str(len(global_diff)))\n",
    "\n",
    "for i in range(len(global_diff)):\n",
    "    global_time.append(time_res*i)\n",
    "\n"
   ]
  },
  {
   "cell_type": "code",
   "execution_count": 25,
   "metadata": {},
   "outputs": [
    {
     "name": "stdout",
     "output_type": "stream",
     "text": [
      "number of valid raw data pts: 10000100\n"
     ]
    }
   ],
   "source": [
    "# trim data\n",
    "tot_valid_pts = int(len(global_time) / n) * n\n",
    "print(\"number of valid raw data pts: \"+str(tot_valid_pts))\n",
    "global_time_arr = np.array(global_time)\n",
    "global_time_arr_1 = global_time_arr[0:tot_valid_pts]\n",
    "global_diff_arr = np.array(global_diff)\n",
    "global_diff_arr_1 = global_diff_arr[0:tot_valid_pts]\n",
    "global_balance_arr = np.array(global_balance)\n",
    "global_balance_arr_1 = global_balance_arr[0:tot_valid_pts]\n",
    "global_V1_arr = np.array(global_V1)\n",
    "global_V1_arr_1 = global_V1_arr[0:tot_valid_pts]\n",
    "global_V2_arr = np.array(global_V2)\n",
    "global_V2_arr_1 = global_V2_arr[0:tot_valid_pts]"
   ]
  },
  {
   "cell_type": "code",
   "execution_count": 26,
   "metadata": {},
   "outputs": [],
   "source": [
    "# apply average filter\n",
    "diff_avg = np.average(global_diff_arr_1.reshape(-1, n), axis=1)\n",
    "t_avg = np.average(global_time_arr_1.reshape(-1, n), axis=1)\n",
    "balance_avg = np.average(global_balance_arr_1.reshape(-1, n), axis=1)\n",
    "V1_avg = np.average(global_V1_arr_1.reshape(-1, n), axis=1)\n",
    "V2_avg = np.average(global_V2_arr_1.reshape(-1, n), axis=1)"
   ]
  },
  {
   "cell_type": "code",
   "execution_count": 27,
   "metadata": {},
   "outputs": [
    {
     "data": {
      "text/plain": [
       "<matplotlib.collections.PathCollection at 0x194b3fe5a00>"
      ]
     },
     "execution_count": 27,
     "metadata": {},
     "output_type": "execute_result"
    },
    {
     "data": {
      "image/png": "[encoded data removed]",
      "text/plain": [
       "<Figure size 432x288 with 1 Axes>"
      ]
     },
     "metadata": {
      "needs_background": "light"
     },
     "output_type": "display_data"
    }
   ],
   "source": [
    "# Plot balanced out \n",
    "plt.scatter(t_avg, balance_avg,s=5)"
   ]
  },
  {
   "cell_type": "code",
   "execution_count": null,
   "metadata": {},
   "outputs": [],
   "source": [
    "# plot \"abs((A-B)/(A+B))\" channel output, after average filter\n",
    "plt.scatter(global_time_arr_1, global_diff_arr_1,s=5)\n",
    "plt.xlabel(\"time[s]\")\n",
    "plt.ylabel(\"abs((A-B)/(A+B))\")\n",
    "plt.xlim(2.5000,2.5010)\n",
    "plt.ylim(0.085,0.115)\n",
    "plt.grid(\"on\")\n",
    "for i in range(len(diff_avg)):\n",
    "    prev_temp = 0.0\n",
    "    if i!=0:\n",
    "        global_rot_speed.append(helper_calc(float(diff_avg[i]) , float(time_res*n), float(diff_avg[i-1])))\n",
    "    else:\n",
    "        global_rot_speed.append(0.0)"
   ]
  },
  {
   "cell_type": "code",
   "execution_count": null,
   "metadata": {},
   "outputs": [],
   "source": [
    "# Plot Line\n",
    "plt.plot(t_avg, global_rot_speed)\n",
    "plt.xlabel(\"time[s]\")\n",
    "plt.ylabel(\"polarization rot speed [rad/s]\")\n",
    "plt.title(\"Shake Plate Line Plot, run 1, n=5000\")\n",
    "plt.grid()\n",
    "plt.show()"
   ]
  },
  {
   "cell_type": "code",
   "execution_count": null,
   "metadata": {},
   "outputs": [],
   "source": [
    "# Plot Scatter\n",
    "plt.scatter(t_avg, global_rot_speed, s=5)\n",
    "plt.xlim(2.5000,2.5010)\n",
    "plt.grid()\n",
    "plt.xlabel(\"time[s]\")\n",
    "plt.ylabel(\"polarization rot speed [rad/s]\")\n",
    "plt.title(\"Shake Plate Scatter Plot, run 1, n=5000\")\n",
    "plt.show()"
   ]
  },
  {
   "cell_type": "code",
   "execution_count": null,
   "metadata": {},
   "outputs": [],
   "source": []
  }
 ],
 "metadata": {
  "kernelspec": {
   "display_name": "Python 3 (ipykernel)",
   "language": "python",
   "name": "python3"
  },
  "language_info": {
   "codemirror_mode": {
    "name": "ipython",
    "version": 3
   },
   "file_extension": ".py",
   "mimetype": "text/x-python",
   "name": "python",
   "nbconvert_exporter": "python",
   "pygments_lexer": "ipython3",
   "version": "3.9.7"
  },
  "vscode": {
   "interpreter": {
    "hash": "5f03900293d012f0336d06ab5aa43acee5c09d138bc557e3e75a650d265fb943"
   }
  }
 },
 "nbformat": 4,
 "nbformat_minor": 2
}
